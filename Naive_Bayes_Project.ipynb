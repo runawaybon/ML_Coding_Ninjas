{
 "cells": [
  {
   "cell_type": "code",
   "execution_count": 1,
   "metadata": {},
   "outputs": [],
   "source": [
    "import numpy as np\n",
    "import pandas as pd\n",
    "#for reading the dataset\n",
    "import os\n",
    "#for splitting the data\n",
    "from sklearn import model_selection\n",
    "#for plotting a graph between frequency and number of words\n",
    "import matplotlib.pyplot as plt\n",
    "#for sorting the dict by value in descending order\n",
    "import operator\n",
    "#to split the text into individual words\n",
    "import re\n",
    "#to use in-built sklearn Multinomial NB classifier\n",
    "from sklearn.naive_bayes import MultinomialNB\n",
    "#to print classification report and confusion matrix\n",
    "from sklearn.metrics import classification_report,confusion_matrix,accuracy_score"
   ]
  },
  {
   "cell_type": "code",
   "execution_count": 2,
   "metadata": {},
   "outputs": [],
   "source": [
    "#stop words not to be added in dictionary\n",
    "stop_words = [\"a\", \"about\", \"above\", \"after\", \"again\", \"against\", \"ain\", \"all\", \"am\", \"an\", \"and\", \"any\", \"are\", \"aren\",\n",
    "              \"aren't\", \"as\", \"at\", \"be\", \"because\", \"been\", \"before\", \"being\", \"below\", \"between\", \"both\", \"but\", \"by\",\n",
    "              \"can\", \"couldn\", \"couldn't\", \"d\", \"did\", \"didn\", \"didn't\", \"do\", \"does\", \"doesn\", \"doesn't\", \"doing\", \"don\",\n",
    "              \"don't\", \"down\", \"during\", \"each\", \"few\", \"for\", \"from\", \"further\", \"had\", \"hadn\", \"hadn't\", \"has\", \"hasn\",\n",
    "              \"hasn't\", \"have\", \"haven\", \"haven't\", \"having\", \"he\", \"her\", \"here\", \"hers\", \"herself\", \"him\", \"himself\",\n",
    "              \"his\", \"how\", \"i\", \"if\", \"in\", \"into\", \"is\", \"isn\", \"isn't\", \"it\", \"it's\", \"its\", \"itself\", \"just\", \"ll\",\n",
    "              \"m\", \"ma\", \"me\", \"mightn\", \"mightn't\", \"more\", \"most\", \"mustn\", \"mustn't\", \"my\", \"myself\", \"needn\", \"needn't\",\n",
    "              \"no\", \"nor\", \"not\", \"now\", \"o\", \"of\", \"off\", \"on\", \"once\", \"only\", \"or\", \"other\", \"our\", \"ours\", \"ourselves\",\n",
    "              \"out\", \"over\", \"own\", \"re\", \"s\", \"same\", \"shan\", \"shan't\", \"she\", \"she's\", \"should\", \"should've\", \"shouldn\",\n",
    "              \"shouldn't\", \"so\", \"some\", \"such\", \"t\", \"than\", \"that\", \"that'll\", \"the\", \"their\", \"theirs\", \"them\", \"themselves\",\n",
    "              \"then\", \"there\", \"these\", \"they\", \"this\", \"those\", \"through\", \"to\", \"too\", \"under\", \"until\", \"up\", \"ve\", \"very\",\n",
    "              \"was\", \"wasn\", \"wasn't\", \"we\", \"were\", \"weren\", \"weren't\", \"what\", \"when\", \"where\", \"which\", \"while\", \"who\",\n",
    "              \"whom\", \"why\", \"will\", \"with\", \"won\", \"won't\", \"wouldn\", \"wouldn't\", \"y\", \"you\", \"you'd\", \"you'll\", \"you're\",\n",
    "              \"you've\", \"your\", \"yours\", \"yourself\", \"yourselves\", \"could\", \"he'd\", \"he'll\", \"he's\", \"here's\", \"how's\",\n",
    "              \"i'd\", \"i'll\", \"i'm\", \"i've\", \"let's\", \"ought\", \"she'd\", \"she'll\", \"that's\", \"there's\", \"they'd\", \"they'll\",\n",
    "              \"they're\", \"they've\", \"we'd\", \"we'll\", \"we're\", \"we've\", \"what's\", \"when's\", \"where's\", \"who's\", \"why's\", \"would\"]"
   ]
  },
  {
   "cell_type": "code",
   "execution_count": 3,
   "metadata": {},
   "outputs": [],
   "source": [
    "#creating list x and y where x has documents(texts) and y holds the class names for the classifier\n",
    "x = [] \n",
    "y = []\n",
    "#using os.listdir to iterate through the 20 classes in the dataset folder\n",
    "for folder in os.listdir(r\"C:\\Users\\daddy\\Desktop\\20_newsgroups\"):\n",
    "    #now iterating tthrough the documents in each class of dataset folder\n",
    "    for doc in os.listdir(r\"C:\\Users\\daddy\\Desktop\\20_newsgroups\\\\\" + folder):\n",
    "        #opening the documents in read-state and appending them to x and y having documents and class names respectively\n",
    "        with open(r\"C:\\Users\\daddy\\Desktop\\20_newsgroups\\\\\"+folder+'\\\\'+doc, \"r\") as doc_ds:\n",
    "            x.append((doc,doc_ds.read()))\n",
    "            y.append(folder)"
   ]
  },
  {
   "cell_type": "code",
   "execution_count": 4,
   "metadata": {},
   "outputs": [],
   "source": [
    "#splitting the dataset int training and testing data\n",
    "x_train, x_test, y_train, y_test = model_selection.train_test_split(x,y, random_state = 0)"
   ]
  },
  {
   "cell_type": "code",
   "execution_count": 5,
   "metadata": {},
   "outputs": [],
   "source": [
    "#making the dictionary having count of all words\n",
    "count = {}\n",
    "#iterating over all rows of training dataset\n",
    "for i in range(len(x_train)):\n",
    "    #0th column holds a length 5 string and 1st columns hold the text of that document\n",
    "    text=x_train[i][1].lower()\n",
    "    #splitting the text into individual words using re.split function\n",
    "    words=re.split(r'\\W+',text)\n",
    "    #iterating over all individual words to create the count dict\n",
    "    for word in words:\n",
    "        #to skip the iteration if the word is an alphanumeric or a stop word or if length of word is less than or equal to 1\n",
    "        if not(word.isalpha()) or word in stop_words or len(word)<=1:\n",
    "            continue\n",
    "        #if word is ok, add it to dictionary and increase frequency if already added\n",
    "        if word in count:\n",
    "            count[word]+=1\n",
    "        else:\n",
    "            count[word]=1"
   ]
  },
  {
   "cell_type": "code",
   "execution_count": 6,
   "metadata": {},
   "outputs": [],
   "source": [
    "#sort the count dictionary in descending order by values\n",
    "sorted_count = sorted(count.items(), key=operator.itemgetter(1),reverse=True)"
   ]
  },
  {
   "cell_type": "code",
   "execution_count": 7,
   "metadata": {},
   "outputs": [
    {
     "data": {
      "image/png": "[encoded data removed]",
      "text/plain": [
       "<Figure size 432x288 with 1 Axes>"
      ]
     },
     "metadata": {
      "needs_background": "light"
     },
     "output_type": "display_data"
    }
   ],
   "source": [
    "#plot graph between frequency and number of words\n",
    "df=sorted_count\n",
    "x_axis = []\n",
    "y_axis = []\n",
    "#iterating over the sorted dictionary\n",
    "for i in range(len(df)):\n",
    "    #plotting number of words on x-axis\n",
    "    x_axis.append(i)\n",
    "    #plotting frequency of those words in y-axis\n",
    "    y_axis.append(df[i][1])\n",
    "plt.plot(x_axis,y_axis)\n",
    "plt.title(\"Frequency vs Number of Words\")\n",
    "plt.xlabel(\"No. of words\")\n",
    "plt.ylabel(\"Frequency\")\n",
    "plt.axis([0,8000,1,8000])\n",
    "plt.grid()\n",
    "plt.show()"
   ]
  },
  {
   "cell_type": "code",
   "execution_count": 8,
   "metadata": {},
   "outputs": [],
   "source": [
    "#I chose top 2000 words to be in my feature set\n",
    "#iterating over top 2000 words in df which contains the sorted dictionary\n",
    "top_k_words=[df[i][0] for i in range(2000)]"
   ]
  },
  {
   "cell_type": "code",
   "execution_count": 9,
   "metadata": {},
   "outputs": [],
   "source": [
    "#To get the dataset in terms of 2d array, we create an array of all 0 having dimensions \n",
    "#m*n, where m is number of rows, i.e. len of x_train and n is number of columns, i.e\n",
    "#length of top_k_words array as calculated above\n",
    "final_x_ds = np.zeros([len(x_train),len(top_k_words)],int)\n",
    "for i in range(len(x_train)):\n",
    "    #splitting the x_train into individual words\n",
    "    words = x_train[i][1].lower()\n",
    "    word = re.split(r'\\W+',words)\n",
    "    #Iterating over each word\n",
    "    for j in word:\n",
    "        #update frequency of that word (j) if it is present in our feature set\n",
    "        if j in top_k_words:\n",
    "            final_x_ds[i][top_k_words.index(j)] += 1"
   ]
  },
  {
   "cell_type": "code",
   "execution_count": 10,
   "metadata": {},
   "outputs": [],
   "source": [
    "#Now we are making the final x test dataset in terms of the required 2d array form\n",
    "final_x_test_ds = np.zeros([len(x_test),len(top_k_words)],int)\n",
    "for i in range(len(x_test)):\n",
    "    #splitting the x_test into individual words\n",
    "    words = x_test[i][1].lower()\n",
    "    word = re.split(r'\\W+',words)\n",
    "    #Iterating over each word\n",
    "    for j in word:\n",
    "        #update frequency of that word (j) if it is present in our feature set\n",
    "        if j in top_k_words:\n",
    "            final_x_test_ds[i][top_k_words.index(j)] += 1"
   ]
  },
  {
   "cell_type": "code",
   "execution_count": 11,
   "metadata": {},
   "outputs": [],
   "source": [
    "def fit(x_train, y_train):\n",
    "    y_train=np.array(y_train)\n",
    "    #the final dictionary required\n",
    "    result = {}\n",
    "    #using the set function to get all unique class values\n",
    "    class_values = set(y_train)\n",
    "    #storing the total number of classes in our dictionary\n",
    "    result[\"total_data\"] = len(y_train)\n",
    "    #iterating over the several classes \n",
    "    for current_class in class_values:\n",
    "        #variable to store number of words in each class\n",
    "        total_word = 0\n",
    "        #making a dictionary for each class\n",
    "        result[current_class] = {}\n",
    "        #selecting those rows having class value as the current class\n",
    "        current_class_rows = (y_train == current_class)\n",
    "        x_train_current = final_x_ds[current_class_rows]\n",
    "        y_train_current = y_train[current_class_rows]\n",
    "        #iterating over our feature set\n",
    "        for word in top_k_words:\n",
    "            #selecting the ith column from the training dataset\n",
    "            word_i=(x_train_current[:,top_k_words.index(word)]).sum()\n",
    "            result[current_class][word]=word_i\n",
    "            #adding total number of words in a particular class in total_word variable\n",
    "            total_word+=word_i\n",
    "        result[current_class][\"current_class_words\"]=total_word\n",
    "        #number of rows having class name as current class\n",
    "        result[current_class][\"total_count\"] = len(y_train_current)\n",
    "    #returning the result dictionary\n",
    "    return result"
   ]
  },
  {
   "cell_type": "code",
   "execution_count": 12,
   "metadata": {},
   "outputs": [],
   "source": [
    "def probability(dictionary,x,current_class):\n",
    "    #first, I calculate the probability P(y = current_class)\n",
    "    output = np.log(dictionary[current_class][\"total_count\"]) - np.log(dictionary[\"total_data\"])\n",
    "    #listing all keys of dictionary\n",
    "    feature=list(dictionary[current_class].keys())\n",
    "    #removing current_class_words and total_count features while iteration \n",
    "    for j in range (len(feature)-2):\n",
    "        xj=x[j]\n",
    "        #If the frequency of that word is 0, then we ignore it\n",
    "        if xj==0:\n",
    "            current_prob=0\n",
    "        else:\n",
    "            #calculating the probability after applying laplace correction\n",
    "            n=dictionary[current_class][feature[j]]+1\n",
    "            d=dictionary[current_class][\"current_class_words\"]+len(dictionary[current_class].keys())-2\n",
    "            current_prob=np.log(n)-np.log(d)\n",
    "        output+=current_prob\n",
    "        \n",
    "    return output"
   ]
  },
  {
   "cell_type": "code",
   "execution_count": 13,
   "metadata": {},
   "outputs": [],
   "source": [
    "#iterating over all classes of our dictionary\n",
    "#and calculating probability\n",
    "#returning the prediction in form of the best class\n",
    "#depending on the probability calculated using the\n",
    "#probability function\n",
    "def PredictSinglePoint(dictionary, x):\n",
    "    first_run=True\n",
    "    best_prob = -1000\n",
    "    classes=dictionary.keys()\n",
    "    for i in classes:\n",
    "        if i==\"total_data\":\n",
    "            continue\n",
    "        prob=probability(dictionary,x,i)\n",
    "        if first_run or prob>best_prob:\n",
    "            best_prob=prob\n",
    "            best_class=i\n",
    "        first_run=False\n",
    "    return best_class"
   ]
  },
  {
   "cell_type": "code",
   "execution_count": 14,
   "metadata": {},
   "outputs": [],
   "source": [
    "#to calculate the predictions, I created a list\n",
    "#and appending point-wise probability and best-class in the y_pred list\n",
    "def predict(x_test,dictionary):\n",
    "    y_pred=[]\n",
    "    for x in x_test:\n",
    "        y_pred.append(PredictSinglePoint(dictionary, x))\n",
    "    return y_pred"
   ]
  },
  {
   "cell_type": "code",
   "execution_count": 15,
   "metadata": {},
   "outputs": [],
   "source": [
    "#calculating the score of our Multinomial NB classifier\n",
    "#which is calculated using mean-accuracy method\n",
    "#if prediction is correct, we increase count by 1\n",
    "#and the calculate the mean\n",
    "def score(y_test,y_pred):\n",
    "        count = 0\n",
    "        for i in range(len(y_pred)):\n",
    "            if y_pred[i] == y_test[i]:\n",
    "                count+=1\n",
    "        return count/len(y_pred)"
   ]
  },
  {
   "cell_type": "code",
   "execution_count": 16,
   "metadata": {},
   "outputs": [],
   "source": [
    "#making the y_predictions using the predict function\n",
    "#and making the final dictionary using the fit function\n",
    "dictionary=fit(final_x_ds,y_train)\n",
    "y_pred=predict(final_x_test_ds, dictionary)"
   ]
  },
  {
   "cell_type": "code",
   "execution_count": 17,
   "metadata": {},
   "outputs": [
    {
     "name": "stdout",
     "output_type": "stream",
     "text": [
      "Score on testing_data: 0.8448\n",
      "[[201   1   0   0   0   0   1   1   2   2   0   0   1   3   0   0   0   0\n",
      "    0  21]\n",
      " [  0 214   0  19   5   3   4   0   0   1   0   0   3   2   2   0   0   0\n",
      "    0   0]\n",
      " [  0  38   3 127   8  53   3   0   0   0   0   3  10   0   1   0   1   0\n",
      "    2   0]\n",
      " [  0   1   0 223  11   0   5   0   0   0   0   0   0   0   0   0   0   0\n",
      "    0   0]\n",
      " [  0   2   0  18 210   0   6   0   0   0   0   0   0   0   0   0   0   0\n",
      "    0   0]\n",
      " [  0  23   1  10   9 191   1   0   1   0   0   1   2   1   0   0   0   0\n",
      "    0   0]\n",
      " [  0   0   0   9   1   0 235   8   0   0   0   0   6   1   1   0   0   0\n",
      "    0   0]\n",
      " [  0   0   0   0   1   1  10 247   5   0   0   0   5   0   0   0   0   0\n",
      "    0   0]\n",
      " [  0   0   0   0   0   0   2   1 279   0   0   0   0   0   0   0   1   0\n",
      "    1   0]\n",
      " [  0   0   0   0   0   0   3   0   0 237   8   0   0   0   0   0   0   0\n",
      "    0   0]\n",
      " [  0   0   0   0   0   0   1   1   0   5 224   0   0   0   0   0   0   0\n",
      "    0   0]\n",
      " [  0   2   0   0   0   1   0   0   0   0   0 227   3   0   0   0   0   0\n",
      "    0   0]\n",
      " [  0   3   0   3   1   0   5   1   0   0   0   0 230   1   0   0   0   0\n",
      "    0   0]\n",
      " [  0   8   0   0   2   1   1   1   3   0   1   1   4 233   1   0   0   0\n",
      "    0   0]\n",
      " [  0   5   0   0   0   0   1   0   1   0   0   0   3   3 229   0   0   0\n",
      "    4   0]\n",
      " [  0   0   0   0   0   0   0   0   0   0   0   0   0   0   0 252   0   0\n",
      "    0   0]\n",
      " [  0   0   0   0   0   0   0   0   2   0   0   2   0   0   0   0 227   0\n",
      "   14   4]\n",
      " [  0   0   0   0   0   0   0   0   0   1   0   0   0   0   0   0   7 256\n",
      "   17   0]\n",
      " [  0   0   0   0   0   0   2   0   0   1   0   1   0   2   3   0  42  14\n",
      "  183  11]\n",
      " [ 57   1   0   0   0   0   1   0   1   0   0   1   0   0   0   7  16   2\n",
      "   27 123]]\n",
      "                          precision    recall  f1-score   support\n",
      "\n",
      "             alt.atheism       0.78      0.86      0.82       233\n",
      "           comp.graphics       0.72      0.85      0.78       253\n",
      " comp.os.ms-windows.misc       0.75      0.01      0.02       249\n",
      "comp.sys.ibm.pc.hardware       0.55      0.93      0.69       240\n",
      "   comp.sys.mac.hardware       0.85      0.89      0.87       236\n",
      "          comp.windows.x       0.76      0.80      0.78       240\n",
      "            misc.forsale       0.84      0.90      0.87       261\n",
      "               rec.autos       0.95      0.92      0.93       269\n",
      "         rec.motorcycles       0.95      0.98      0.97       284\n",
      "      rec.sport.baseball       0.96      0.96      0.96       248\n",
      "        rec.sport.hockey       0.96      0.97      0.97       231\n",
      "               sci.crypt       0.96      0.97      0.97       233\n",
      "         sci.electronics       0.86      0.94      0.90       244\n",
      "                 sci.med       0.95      0.91      0.93       256\n",
      "               sci.space       0.97      0.93      0.95       246\n",
      "  soc.religion.christian       0.97      1.00      0.99       252\n",
      "      talk.politics.guns       0.77      0.91      0.84       249\n",
      "   talk.politics.mideast       0.94      0.91      0.93       281\n",
      "      talk.politics.misc       0.74      0.71      0.72       259\n",
      "      talk.religion.misc       0.77      0.52      0.62       236\n",
      "\n",
      "                accuracy                           0.84      5000\n",
      "               macro avg       0.85      0.84      0.82      5000\n",
      "            weighted avg       0.85      0.84      0.83      5000\n",
      "\n"
     ]
    }
   ],
   "source": [
    "#checking the score( mean accuracy) using the score function\n",
    "#and then printing out the confusion_matrix and classification_report\n",
    "print(\"Score on testing_data:\",score(y_test,y_pred))\n",
    "print(confusion_matrix(y_test,y_pred))\n",
    "print(classification_report(y_test,y_pred))"
   ]
  },
  {
   "cell_type": "code",
   "execution_count": 18,
   "metadata": {
    "scrolled": true
   },
   "outputs": [
    {
     "name": "stdout",
     "output_type": "stream",
     "text": [
      "Score on training data: 0.8599719943988797\n",
      "Score on testing data: 0.8192\n",
      "[[188   0   0   0   0   0   1   4   3   0   2   0   0   2   0   1   0   0\n",
      "    0  32]\n",
      " [  1 201   0  16   7  14   3   2   0   0   0   0   5   3   1   0   0   0\n",
      "    0   0]\n",
      " [  0  36  18 116  10  54   7   1   0   0   0   1   5   0   1   0   0   0\n",
      "    0   0]\n",
      " [  0   1   0 210  21   0   5   0   0   0   0   0   3   0   0   0   0   0\n",
      "    0   0]\n",
      " [  0   2   0  24 203   0   7   0   0   0   0   0   0   0   0   0   0   0\n",
      "    0   0]\n",
      " [  0  22   1  17  12 175   2   0   2   1   0   1   4   1   2   0   0   0\n",
      "    0   0]\n",
      " [  0   0   0   6   4   0 237   6   1   0   1   0   5   0   0   0   1   0\n",
      "    0   0]\n",
      " [  0   0   0   0   1   0  10 240   7   1   2   0   7   0   0   0   1   0\n",
      "    0   0]\n",
      " [  0   0   0   0   0   0   2   6 274   2   0   0   0   0   0   0   0   0\n",
      "    0   0]\n",
      " [  0   0   0   0   0   0   4   4   2 224  13   0   0   0   1   0   0   0\n",
      "    0   0]\n",
      " [  0   0   0   0   0   0   0   0   3   7 220   0   0   0   1   0   0   0\n",
      "    0   0]\n",
      " [  0   3   0   0   0   2   1   0   0   0   0 222   5   0   0   0   0   0\n",
      "    0   0]\n",
      " [  0   4   0   8   4   0   5   9   1   0   1   0 207   2   2   0   0   0\n",
      "    1   0]\n",
      " [  0   5   0   1   6   2   2   5   8   2   0   1   3 216   4   0   0   1\n",
      "    0   0]\n",
      " [  1   2   0   1   1   0   1   3   2   2   2   0   5   2 222   0   1   0\n",
      "    1   0]\n",
      " [  0   0   0   0   0   0   0   0   0   0   0   0   0   0   0 252   0   0\n",
      "    0   0]\n",
      " [  0   0   0   1   0   0   0   0   3   0   0   3   0   0   0   0 225   0\n",
      "   12   5]\n",
      " [  0   0   0   0   1   0   4   3   1   1   1   0   1   0   0   0   8 239\n",
      "   21   1]\n",
      " [  0   0   0   0   0   0   1   0   0   2   0   3   0   2   2   1  34  14\n",
      "  180  20]\n",
      " [ 44   1   0   0   0   0   0   0   1   0   1   0   0   1   0   8  14   2\n",
      "   21 143]]\n",
      "                          precision    recall  f1-score   support\n",
      "\n",
      "             alt.atheism       0.80      0.81      0.81       233\n",
      "           comp.graphics       0.73      0.79      0.76       253\n",
      " comp.os.ms-windows.misc       0.95      0.07      0.13       249\n",
      "comp.sys.ibm.pc.hardware       0.53      0.88      0.66       240\n",
      "   comp.sys.mac.hardware       0.75      0.86      0.80       236\n",
      "          comp.windows.x       0.71      0.73      0.72       240\n",
      "            misc.forsale       0.81      0.91      0.86       261\n",
      "               rec.autos       0.85      0.89      0.87       269\n",
      "         rec.motorcycles       0.89      0.96      0.93       284\n",
      "      rec.sport.baseball       0.93      0.90      0.91       248\n",
      "        rec.sport.hockey       0.91      0.95      0.93       231\n",
      "               sci.crypt       0.96      0.95      0.96       233\n",
      "         sci.electronics       0.83      0.85      0.84       244\n",
      "                 sci.med       0.94      0.84      0.89       256\n",
      "               sci.space       0.94      0.90      0.92       246\n",
      "  soc.religion.christian       0.96      1.00      0.98       252\n",
      "      talk.politics.guns       0.79      0.90      0.84       249\n",
      "   talk.politics.mideast       0.93      0.85      0.89       281\n",
      "      talk.politics.misc       0.76      0.69      0.73       259\n",
      "      talk.religion.misc       0.71      0.61      0.65       236\n",
      "\n",
      "                accuracy                           0.82      5000\n",
      "               macro avg       0.83      0.82      0.80      5000\n",
      "            weighted avg       0.84      0.82      0.81      5000\n",
      "\n"
     ]
    }
   ],
   "source": [
    "#USING THE IN-BUILT SK-LEARN CLASSIFIER FOR MULTINOMIAL NAIVE-BAYES\n",
    "clf=MultinomialNB()\n",
    "clf.fit(final_x_ds,y_train)\n",
    "y_pred=clf.predict(final_x_test_ds)\n",
    "print(\"Score on training data:\",clf.score(final_x_ds,y_train))\n",
    "print(\"Score on testing data:\",clf.score(final_x_test_ds,y_test))\n",
    "print(confusion_matrix(y_test,y_pred))\n",
    "print(classification_report(y_test,y_pred))"
   ]
  },
  {
   "cell_type": "markdown",
   "metadata": {},
   "source": [
    "**COMPARISON B/W In-Built MultinomialNB classifier and Self-Implementation Of Multinomial NB classifer**"
   ]
  },
  {
   "cell_type": "code",
   "execution_count": 3,
   "metadata": {},
   "outputs": [],
   "source": [
    "#Score on testing data by Self-Implemented NB Classifier = 0.8448\n",
    "#Score on testing data by In-built SKLearn NB classifier = 0.8192\n",
    "\n",
    "#this shows that even though there's quite difference in the score obtained by both methods\n",
    "#but in my case, the self-implemented Multinomial NB classifier achieves better score on \n",
    "#testing data than in-built sklearn Multinomial NB classifier."
   ]
  }
 ],
 "metadata": {
  "kernelspec": {
   "display_name": "Python 3",
   "language": "python",
   "name": "python3"
  },
  "language_info": {
   "codemirror_mode": {
    "name": "ipython",
    "version": 3
   },
   "file_extension": ".py",
   "mimetype": "text/x-python",
   "name": "python",
   "nbconvert_exporter": "python",
   "pygments_lexer": "ipython3",
   "version": "3.7.4"
  }
 },
 "nbformat": 4,
 "nbformat_minor": 2
}
